{
 "cells": [
  {
   "cell_type": "code",
   "execution_count": 4,
   "metadata": {},
   "outputs": [
    {
     "data": {
      "application/vnd.jupyter.widget-view+json": {
       "model_id": "5f0d61ada2a24bb5b01518e361ba1a2d",
       "version_major": 2,
       "version_minor": 0
      },
      "text/plain": [
       "Canvas(height=256, sync_image_data=True, width=512)"
      ]
     },
     "metadata": {},
     "output_type": "display_data"
    },
    {
     "data": {
      "application/vnd.jupyter.widget-view+json": {
       "model_id": "541c36d6505f40908f9c149b53054d6f",
       "version_major": 2,
       "version_minor": 0
      },
      "text/plain": [
       "HBox(children=(FileUpload(value=(), accept='image/*', description='Upload'), Button(description='Clear', style…"
      ]
     },
     "metadata": {},
     "output_type": "display_data"
    },
    {
     "data": {
      "application/vnd.jupyter.widget-view+json": {
       "model_id": "65708b12dc52476e9d7a3674e98b13be",
       "version_major": 2,
       "version_minor": 0
      },
      "text/plain": [
       "HBox(children=(Text(value='', placeholder='Value name to set'), Text(value='Output'), Button(description='Set'…"
      ]
     },
     "metadata": {},
     "output_type": "display_data"
    }
   ],
   "source": [
    "from IPython.display import display\n",
    "import ipywidgets as widgets\n",
    "from ipycanvas import Canvas\n",
    "import torch\n",
    "from model import Model\n",
    "from tokenizer import vocab_size, decode, special_token_ids\n",
    "from PIL import Image\n",
    "from torchvision import transforms\n",
    "\n",
    "to_tensor = transforms.ToTensor()\n",
    "\n",
    "# model\n",
    "n_embed = 512\n",
    "n_head = 8\n",
    "n_layer = 2\n",
    "model = Model(vocab_size=vocab_size, n_embed=n_embed, n_head=n_head, n_layer=n_layer)\n",
    "model.load_state_dict(torch.load('models/hand_math19_finetuned.bin', map_location=torch.device('cpu')))\n",
    "\n",
    "# canvas\n",
    "scale = 2\n",
    "model_w, model_h = 256, 128\n",
    "canvas = Canvas(width=model_w*scale, height=model_h*scale, sync_image_data=True)\n",
    "canvas.fill_style = 'white'\n",
    "canvas.fill_rect(0, 0, canvas.width, canvas.height)\n",
    "\n",
    "canvas.line_width = 8.0\n",
    "canvas.line_cap = 'round'\n",
    "last_x, last_y = None, None\n",
    "\n",
    "def canvas_mouse_down(x, y):\n",
    "    global last_x, last_y\n",
    "    last_x, last_y =  x, y\n",
    "\n",
    "def canvas_mouse_up(x, y):\n",
    "    global last_x, last_y\n",
    "    last_x, last_y = None, None\n",
    "\n",
    "def canvas_mouse_move(x, y):\n",
    "    global last_x, last_y\n",
    "    if last_x is None:\n",
    "        return\n",
    "    canvas.begin_path()\n",
    "    canvas.move_to(last_x, last_y)\n",
    "    canvas.line_to(x, y)\n",
    "    canvas.stroke()\n",
    "    last_x, last_y = x, y\n",
    "\n",
    "canvas.on_mouse_down(canvas_mouse_down)\n",
    "canvas.on_mouse_up(canvas_mouse_up)\n",
    "canvas.on_mouse_move(canvas_mouse_move)\n",
    "\n",
    "display(canvas)\n",
    "\n",
    "# upload\n",
    "upload_widget = widgets.FileUpload(accept='image/*', multiple=False)\n",
    "def upload_widget_changed(change):\n",
    "    new_value = change['new']\n",
    "    content = new_value[0].content\n",
    "    img = widgets.Image(value=content)\n",
    "    canvas.draw_image(img, 0, 0, width=model_w*scale, height=model_h*scale)\n",
    "\n",
    "upload_widget.observe(upload_widget_changed, names='value')\n",
    "\n",
    "# clear\n",
    "clear_button = widgets.Button(description='Clear')\n",
    "def clear_button_clicked(b):\n",
    "    canvas.fill_style = 'white'\n",
    "    canvas.fill_rect(0, 0, canvas.width, canvas.height)\n",
    "clear_button.on_click(clear_button_clicked)\n",
    "\n",
    "\n",
    "# recognize\n",
    "output_text = widgets.Text(value='Output')\n",
    "eos_token_id = special_token_ids['<eos>']\n",
    "max_gen_len = 32\n",
    "recognize_button = widgets.Button(description='Recognize')\n",
    "def recognize_button_clicked(b):\n",
    "    img = canvas.get_image_data()\n",
    "    img = Image.fromarray(img)\n",
    "    img = img.resize((model_w, model_h)).convert('RGB')\n",
    "    img = to_tensor(img).unsqueeze(0)\n",
    "    idx = torch.tensor([[special_token_ids['<begin>']]], dtype=torch.long)\n",
    "    for i in range(max_gen_len):\n",
    "        logits = model(idx, img)\n",
    "        logits = logits[:, -1, :]\n",
    "        next_id = logits.argmax(dim=-1)\n",
    "        if next_id.item() == eos_token_id:\n",
    "            break\n",
    "        idx = torch.cat([idx, next_id.unsqueeze(0)], dim=-1)\n",
    "    text = decode(idx.tolist()[0][1:])\n",
    "    output_text.value = text\n",
    "\n",
    "recognize_button.on_click(recognize_button_clicked)\n",
    "\n",
    "bar1 = widgets.HBox([upload_widget, clear_button, recognize_button])\n",
    "display(bar1)\n",
    "\n",
    "from sympy import *\n",
    "to_set_text = widgets.Text(placeholder='Value name to set')\n",
    "set_button = widgets.Button(description='Set')\n",
    "def set_button_clicked(b):\n",
    "    globals()[to_set_text.value] = sympify(output_text.value)\n",
    "set_button.on_click(set_button_clicked)\n",
    "bar2 = widgets.HBox([to_set_text, output_text, set_button])\n",
    "display(bar2)"
   ]
  },
  {
   "cell_type": "code",
   "execution_count": 2,
   "metadata": {},
   "outputs": [
    {
     "data": {
      "text/latex": [
       "$\\displaystyle 4 H L u - k$"
      ],
      "text/plain": [
       "4*H*L*u - k"
      ]
     },
     "execution_count": 2,
     "metadata": {},
     "output_type": "execute_result"
    }
   ],
   "source": [
    "x"
   ]
  }
 ],
 "metadata": {
  "kernelspec": {
   "display_name": "Python 3 (ipykernel)",
   "language": "python",
   "name": "python3"
  },
  "language_info": {
   "codemirror_mode": {
    "name": "ipython",
    "version": 3
   },
   "file_extension": ".py",
   "mimetype": "text/x-python",
   "name": "python",
   "nbconvert_exporter": "python",
   "pygments_lexer": "ipython3",
   "version": "3.12.6"
  }
 },
 "nbformat": 4,
 "nbformat_minor": 4
}
